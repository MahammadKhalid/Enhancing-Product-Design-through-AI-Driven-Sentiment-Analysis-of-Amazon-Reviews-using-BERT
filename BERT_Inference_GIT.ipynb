{
  "nbformat": 4,
  "nbformat_minor": 0,
  "metadata": {
    "colab": {
      "provenance": [],
      "gpuType": "T4"
    },
    "kernelspec": {
      "name": "python3",
      "display_name": "Python 3"
    },
    "language_info": {
      "name": "python"
    },
    "accelerator": "GPU"
  },
  "cells": [
    {
      "cell_type": "code",
      "execution_count": null,
      "metadata": {
        "colab": {
          "base_uri": "https://localhost:8080/"
        },
        "id": "wOIgQs65mP4h",
        "outputId": "7a7fc822-e730-468b-ff19-3d8a412646d1"
      },
      "outputs": [
        {
          "output_type": "stream",
          "name": "stdout",
          "text": [
            "Mounted at /content/drive\n"
          ]
        }
      ],
      "source": [
        "from google.colab import drive\n",
        "drive.mount('/content/drive')"
      ]
    },
    {
      "cell_type": "code",
      "source": [
        "# install the required ibraries\n",
        "!pip install -q torch\n",
        "!pip install -U -q accelerate transformers"
      ],
      "metadata": {
        "id": "CAsJjRQvmZDt"
      },
      "execution_count": null,
      "outputs": []
    },
    {
      "cell_type": "code",
      "source": [
        "from sklearn.metrics import accuracy_score, recall_score, precision_score, f1_score, classification_report\n",
        "import torch\n",
        "from transformers import TrainingArguments, Trainer\n",
        "from transformers import BertTokenizer, BertForSequenceClassification\n",
        "import pandas as pd\n",
        "import numpy as np"
      ],
      "metadata": {
        "id": "zej8QtY8mo3I"
      },
      "execution_count": null,
      "outputs": []
    },
    {
      "cell_type": "code",
      "source": [
        "# loading the trained model\n",
        "tokenizer = BertTokenizer.from_pretrained('/content/drive/MyDrive/ASPECT ANALYSIS ALL/BERT_MODEL_FILES/Tokenizer91acc')\n",
        "model = BertForSequenceClassification.from_pretrained(\"/content/drive/MyDrive/ASPECT ANALYSIS ALL/BERT_MODEL_FILES/CustomModel91acc\")"
      ],
      "metadata": {
        "id": "BtarcTQ4n0gx"
      },
      "execution_count": null,
      "outputs": []
    },
    {
      "cell_type": "code",
      "source": [
        "# validation file path\n",
        "VALIDATION_FILE_PATH = '/content/drive/MyDrive/ASPECT ANALYSIS ALL/post split 80 20 ratio train test data/testing_data_20.csv'"
      ],
      "metadata": {
        "id": "R-f9qeTzmvAJ"
      },
      "execution_count": null,
      "outputs": []
    },
    {
      "cell_type": "code",
      "source": [
        "# reading the excel file into a pandas dataframe\n",
        "validation_data = pd.read_csv(VALIDATION_FILE_PATH)"
      ],
      "metadata": {
        "id": "8mKO_uaim5g4"
      },
      "execution_count": null,
      "outputs": []
    },
    {
      "cell_type": "code",
      "source": [
        "# removing the duplicate reviews if any\n",
        "validation_data = validation_data.drop_duplicates(subset=['Review'])\n",
        "# deleting the rows with null values if any\n",
        "validation_data = validation_data.dropna()"
      ],
      "metadata": {
        "id": "EzvA8VBYnGTp"
      },
      "execution_count": null,
      "outputs": []
    },
    {
      "cell_type": "code",
      "source": [
        "# list of original labels\n",
        "original_labels = [\n",
        "    'Adaptability', 'Durability', 'Ease of Use', 'Ergonomics',\n",
        "    'Interference', 'Performance', 'Use Efficiency', 'Aesthetics',\n",
        "    'Ease of Reprocessing', 'Ease of Storage', 'Price', 'Safety'\n",
        "]"
      ],
      "metadata": {
        "id": "HMMX9-ZFnbdg"
      },
      "execution_count": null,
      "outputs": []
    },
    {
      "cell_type": "code",
      "source": [
        "# creating the label to number encoding for each label\n",
        "labeling_dict = {label: idx for idx, label in enumerate(original_labels)}\n",
        "# creating the reverse label dictionary to map the predicted numbers back to original labels\n",
        "labeling_dict_reverse = {idx: label for idx, label in enumerate(original_labels)}"
      ],
      "metadata": {
        "id": "hq7t3KInnfTa"
      },
      "execution_count": null,
      "outputs": []
    },
    {
      "cell_type": "code",
      "source": [
        "# converting the reviews\n",
        "X_val = validation_data[\"Review\"].to_list()"
      ],
      "metadata": {
        "id": "Pejo0J8KnlAT"
      },
      "execution_count": null,
      "outputs": []
    },
    {
      "cell_type": "code",
      "source": [
        "# tokenizing the reviews\n",
        "X_val_tokenized = tokenizer(X_val, padding=True, truncation=True, max_length=512)"
      ],
      "metadata": {
        "id": "PYzXOTppnu6I"
      },
      "execution_count": null,
      "outputs": []
    },
    {
      "cell_type": "code",
      "source": [
        "# predict function, without GPU predictions\n",
        "\n",
        "def predict(texts, model, tokenizer, max_length=512, batch_size=8):\n",
        "    # Tokenize input texts\n",
        "    inputs = tokenizer(texts, return_tensors='pt', padding=True, truncation=True, max_length=max_length)\n",
        "    model.eval()\n",
        "\n",
        "    # Make predictions\n",
        "    predictions = []\n",
        "    with torch.no_grad():\n",
        "        for i in range(0, len(texts), batch_size):\n",
        "            batch_inputs = {key: value[i:i+batch_size] for key, value in inputs.items()}\n",
        "            outputs = model(**batch_inputs)\n",
        "            logits = outputs.logits\n",
        "            probabilities = torch.softmax(logits, dim=1)\n",
        "            _, predicted_labels = torch.max(probabilities, dim=1)\n",
        "            predictions.extend(predicted_labels.cpu().numpy().tolist())\n",
        "\n",
        "    return predictions\n",
        "\n",
        "\n",
        "# Use this function if you have GPU available\n",
        "def predict_gpu(texts, model, tokenizer, max_length=512, batch_size=8):\n",
        "    # Tokenize input texts\n",
        "    inputs = tokenizer(texts, return_tensors='pt', padding=True, truncation=True, max_length=max_length)\n",
        "\n",
        "    # Move inputs to GPU\n",
        "    for key in inputs:\n",
        "        inputs[key] = inputs[key].to('cuda')\n",
        "\n",
        "    model.eval()\n",
        "\n",
        "    # Move model to GPU\n",
        "    model.to('cuda')\n",
        "\n",
        "    # Make predictions\n",
        "    predictions = []\n",
        "    with torch.no_grad():\n",
        "        for i in range(0, len(texts), batch_size):\n",
        "            batch_inputs = {key: value[i:i+batch_size].to('cuda') for key, value in inputs.items()}\n",
        "            outputs = model(**batch_inputs)\n",
        "            logits = outputs.logits\n",
        "            probabilities = torch.softmax(logits, dim=1)\n",
        "            _, predicted_labels = torch.max(probabilities, dim=1)\n",
        "            predictions.extend(predicted_labels.cpu().numpy().tolist())\n",
        "\n",
        "    return predictions"
      ],
      "metadata": {
        "id": "R7CadPPSnxJi"
      },
      "execution_count": null,
      "outputs": []
    },
    {
      "cell_type": "code",
      "source": [
        "# creating predictions\n",
        "preds = predict_gpu(X_val, model, tokenizer)"
      ],
      "metadata": {
        "id": "xDXAQTnEoMt1"
      },
      "execution_count": null,
      "outputs": []
    },
    {
      "cell_type": "code",
      "source": [
        "# storing the predictions and actual labels in a new data frame\n",
        "val_data_w_preds = pd.DataFrame()\n",
        "val_data_w_preds['Reviews'] = X_val\n",
        "# val_data_w_preds['Aspect'] = y_val\n",
        "val_data_w_preds['Predicted_Aspect'] = preds"
      ],
      "metadata": {
        "id": "-TSh-stuoNjy"
      },
      "execution_count": null,
      "outputs": []
    },
    {
      "cell_type": "code",
      "source": [
        "# reverse mapping the numerical predictions to original labels\n",
        "val_data_w_preds['Aspect'] = validation_data.Aspect.values\n",
        "val_data_w_preds['Predicted_Aspect'] = val_data_w_preds['Predicted_Aspect'].map(labeling_dict_reverse)"
      ],
      "metadata": {
        "id": "fcqp5iipqNmP"
      },
      "execution_count": null,
      "outputs": []
    },
    {
      "cell_type": "code",
      "source": [
        "val_data_w_preds.head()"
      ],
      "metadata": {
        "colab": {
          "base_uri": "https://localhost:8080/",
          "height": 206
        },
        "id": "A56J7qcDojap",
        "outputId": "328ea6b3-1ba7-4736-dba9-a83385a430b2"
      },
      "execution_count": null,
      "outputs": [
        {
          "output_type": "execute_result",
          "data": {
            "text/plain": [
              "                                             Reviews Predicted_Aspect  \\\n",
              "0          Outstanding stain remover! Works wonders.      Performance   \n",
              "1  Displays capability but with occasional ineffi...      Performance   \n",
              "2  The reusable towels hold up well after months ...       Durability   \n",
              "3  Recycled activewear tears easily and doesn't h...   Use Efficiency   \n",
              "4  The TV remote's ergonomic layout makes it easy...       Ergonomics   \n",
              "\n",
              "           Aspect  \n",
              "0     Performance  \n",
              "1     Performance  \n",
              "2      Durability  \n",
              "3  Use Efficiency  \n",
              "4      Ergonomics  "
            ],
            "text/html": [
              "\n",
              "  <div id=\"df-26fab970-613f-41e3-a395-7b57090d27a9\" class=\"colab-df-container\">\n",
              "    <div>\n",
              "<style scoped>\n",
              "    .dataframe tbody tr th:only-of-type {\n",
              "        vertical-align: middle;\n",
              "    }\n",
              "\n",
              "    .dataframe tbody tr th {\n",
              "        vertical-align: top;\n",
              "    }\n",
              "\n",
              "    .dataframe thead th {\n",
              "        text-align: right;\n",
              "    }\n",
              "</style>\n",
              "<table border=\"1\" class=\"dataframe\">\n",
              "  <thead>\n",
              "    <tr style=\"text-align: right;\">\n",
              "      <th></th>\n",
              "      <th>Reviews</th>\n",
              "      <th>Predicted_Aspect</th>\n",
              "      <th>Aspect</th>\n",
              "    </tr>\n",
              "  </thead>\n",
              "  <tbody>\n",
              "    <tr>\n",
              "      <th>0</th>\n",
              "      <td>Outstanding stain remover! Works wonders.</td>\n",
              "      <td>Performance</td>\n",
              "      <td>Performance</td>\n",
              "    </tr>\n",
              "    <tr>\n",
              "      <th>1</th>\n",
              "      <td>Displays capability but with occasional ineffi...</td>\n",
              "      <td>Performance</td>\n",
              "      <td>Performance</td>\n",
              "    </tr>\n",
              "    <tr>\n",
              "      <th>2</th>\n",
              "      <td>The reusable towels hold up well after months ...</td>\n",
              "      <td>Durability</td>\n",
              "      <td>Durability</td>\n",
              "    </tr>\n",
              "    <tr>\n",
              "      <th>3</th>\n",
              "      <td>Recycled activewear tears easily and doesn't h...</td>\n",
              "      <td>Use Efficiency</td>\n",
              "      <td>Use Efficiency</td>\n",
              "    </tr>\n",
              "    <tr>\n",
              "      <th>4</th>\n",
              "      <td>The TV remote's ergonomic layout makes it easy...</td>\n",
              "      <td>Ergonomics</td>\n",
              "      <td>Ergonomics</td>\n",
              "    </tr>\n",
              "  </tbody>\n",
              "</table>\n",
              "</div>\n",
              "    <div class=\"colab-df-buttons\">\n",
              "\n",
              "  <div class=\"colab-df-container\">\n",
              "    <button class=\"colab-df-convert\" onclick=\"convertToInteractive('df-26fab970-613f-41e3-a395-7b57090d27a9')\"\n",
              "            title=\"Convert this dataframe to an interactive table.\"\n",
              "            style=\"display:none;\">\n",
              "\n",
              "  <svg xmlns=\"http://www.w3.org/2000/svg\" height=\"24px\" viewBox=\"0 -960 960 960\">\n",
              "    <path d=\"M120-120v-720h720v720H120Zm60-500h600v-160H180v160Zm220 220h160v-160H400v160Zm0 220h160v-160H400v160ZM180-400h160v-160H180v160Zm440 0h160v-160H620v160ZM180-180h160v-160H180v160Zm440 0h160v-160H620v160Z\"/>\n",
              "  </svg>\n",
              "    </button>\n",
              "\n",
              "  <style>\n",
              "    .colab-df-container {\n",
              "      display:flex;\n",
              "      gap: 12px;\n",
              "    }\n",
              "\n",
              "    .colab-df-convert {\n",
              "      background-color: #E8F0FE;\n",
              "      border: none;\n",
              "      border-radius: 50%;\n",
              "      cursor: pointer;\n",
              "      display: none;\n",
              "      fill: #1967D2;\n",
              "      height: 32px;\n",
              "      padding: 0 0 0 0;\n",
              "      width: 32px;\n",
              "    }\n",
              "\n",
              "    .colab-df-convert:hover {\n",
              "      background-color: #E2EBFA;\n",
              "      box-shadow: 0px 1px 2px rgba(60, 64, 67, 0.3), 0px 1px 3px 1px rgba(60, 64, 67, 0.15);\n",
              "      fill: #174EA6;\n",
              "    }\n",
              "\n",
              "    .colab-df-buttons div {\n",
              "      margin-bottom: 4px;\n",
              "    }\n",
              "\n",
              "    [theme=dark] .colab-df-convert {\n",
              "      background-color: #3B4455;\n",
              "      fill: #D2E3FC;\n",
              "    }\n",
              "\n",
              "    [theme=dark] .colab-df-convert:hover {\n",
              "      background-color: #434B5C;\n",
              "      box-shadow: 0px 1px 3px 1px rgba(0, 0, 0, 0.15);\n",
              "      filter: drop-shadow(0px 1px 2px rgba(0, 0, 0, 0.3));\n",
              "      fill: #FFFFFF;\n",
              "    }\n",
              "  </style>\n",
              "\n",
              "    <script>\n",
              "      const buttonEl =\n",
              "        document.querySelector('#df-26fab970-613f-41e3-a395-7b57090d27a9 button.colab-df-convert');\n",
              "      buttonEl.style.display =\n",
              "        google.colab.kernel.accessAllowed ? 'block' : 'none';\n",
              "\n",
              "      async function convertToInteractive(key) {\n",
              "        const element = document.querySelector('#df-26fab970-613f-41e3-a395-7b57090d27a9');\n",
              "        const dataTable =\n",
              "          await google.colab.kernel.invokeFunction('convertToInteractive',\n",
              "                                                    [key], {});\n",
              "        if (!dataTable) return;\n",
              "\n",
              "        const docLinkHtml = 'Like what you see? Visit the ' +\n",
              "          '<a target=\"_blank\" href=https://colab.research.google.com/notebooks/data_table.ipynb>data table notebook</a>'\n",
              "          + ' to learn more about interactive tables.';\n",
              "        element.innerHTML = '';\n",
              "        dataTable['output_type'] = 'display_data';\n",
              "        await google.colab.output.renderOutput(dataTable, element);\n",
              "        const docLink = document.createElement('div');\n",
              "        docLink.innerHTML = docLinkHtml;\n",
              "        element.appendChild(docLink);\n",
              "      }\n",
              "    </script>\n",
              "  </div>\n",
              "\n",
              "\n",
              "<div id=\"df-a076d500-3108-48b0-8d31-1d55b03ed475\">\n",
              "  <button class=\"colab-df-quickchart\" onclick=\"quickchart('df-a076d500-3108-48b0-8d31-1d55b03ed475')\"\n",
              "            title=\"Suggest charts\"\n",
              "            style=\"display:none;\">\n",
              "\n",
              "<svg xmlns=\"http://www.w3.org/2000/svg\" height=\"24px\"viewBox=\"0 0 24 24\"\n",
              "     width=\"24px\">\n",
              "    <g>\n",
              "        <path d=\"M19 3H5c-1.1 0-2 .9-2 2v14c0 1.1.9 2 2 2h14c1.1 0 2-.9 2-2V5c0-1.1-.9-2-2-2zM9 17H7v-7h2v7zm4 0h-2V7h2v10zm4 0h-2v-4h2v4z\"/>\n",
              "    </g>\n",
              "</svg>\n",
              "  </button>\n",
              "\n",
              "<style>\n",
              "  .colab-df-quickchart {\n",
              "      --bg-color: #E8F0FE;\n",
              "      --fill-color: #1967D2;\n",
              "      --hover-bg-color: #E2EBFA;\n",
              "      --hover-fill-color: #174EA6;\n",
              "      --disabled-fill-color: #AAA;\n",
              "      --disabled-bg-color: #DDD;\n",
              "  }\n",
              "\n",
              "  [theme=dark] .colab-df-quickchart {\n",
              "      --bg-color: #3B4455;\n",
              "      --fill-color: #D2E3FC;\n",
              "      --hover-bg-color: #434B5C;\n",
              "      --hover-fill-color: #FFFFFF;\n",
              "      --disabled-bg-color: #3B4455;\n",
              "      --disabled-fill-color: #666;\n",
              "  }\n",
              "\n",
              "  .colab-df-quickchart {\n",
              "    background-color: var(--bg-color);\n",
              "    border: none;\n",
              "    border-radius: 50%;\n",
              "    cursor: pointer;\n",
              "    display: none;\n",
              "    fill: var(--fill-color);\n",
              "    height: 32px;\n",
              "    padding: 0;\n",
              "    width: 32px;\n",
              "  }\n",
              "\n",
              "  .colab-df-quickchart:hover {\n",
              "    background-color: var(--hover-bg-color);\n",
              "    box-shadow: 0 1px 2px rgba(60, 64, 67, 0.3), 0 1px 3px 1px rgba(60, 64, 67, 0.15);\n",
              "    fill: var(--button-hover-fill-color);\n",
              "  }\n",
              "\n",
              "  .colab-df-quickchart-complete:disabled,\n",
              "  .colab-df-quickchart-complete:disabled:hover {\n",
              "    background-color: var(--disabled-bg-color);\n",
              "    fill: var(--disabled-fill-color);\n",
              "    box-shadow: none;\n",
              "  }\n",
              "\n",
              "  .colab-df-spinner {\n",
              "    border: 2px solid var(--fill-color);\n",
              "    border-color: transparent;\n",
              "    border-bottom-color: var(--fill-color);\n",
              "    animation:\n",
              "      spin 1s steps(1) infinite;\n",
              "  }\n",
              "\n",
              "  @keyframes spin {\n",
              "    0% {\n",
              "      border-color: transparent;\n",
              "      border-bottom-color: var(--fill-color);\n",
              "      border-left-color: var(--fill-color);\n",
              "    }\n",
              "    20% {\n",
              "      border-color: transparent;\n",
              "      border-left-color: var(--fill-color);\n",
              "      border-top-color: var(--fill-color);\n",
              "    }\n",
              "    30% {\n",
              "      border-color: transparent;\n",
              "      border-left-color: var(--fill-color);\n",
              "      border-top-color: var(--fill-color);\n",
              "      border-right-color: var(--fill-color);\n",
              "    }\n",
              "    40% {\n",
              "      border-color: transparent;\n",
              "      border-right-color: var(--fill-color);\n",
              "      border-top-color: var(--fill-color);\n",
              "    }\n",
              "    60% {\n",
              "      border-color: transparent;\n",
              "      border-right-color: var(--fill-color);\n",
              "    }\n",
              "    80% {\n",
              "      border-color: transparent;\n",
              "      border-right-color: var(--fill-color);\n",
              "      border-bottom-color: var(--fill-color);\n",
              "    }\n",
              "    90% {\n",
              "      border-color: transparent;\n",
              "      border-bottom-color: var(--fill-color);\n",
              "    }\n",
              "  }\n",
              "</style>\n",
              "\n",
              "  <script>\n",
              "    async function quickchart(key) {\n",
              "      const quickchartButtonEl =\n",
              "        document.querySelector('#' + key + ' button');\n",
              "      quickchartButtonEl.disabled = true;  // To prevent multiple clicks.\n",
              "      quickchartButtonEl.classList.add('colab-df-spinner');\n",
              "      try {\n",
              "        const charts = await google.colab.kernel.invokeFunction(\n",
              "            'suggestCharts', [key], {});\n",
              "      } catch (error) {\n",
              "        console.error('Error during call to suggestCharts:', error);\n",
              "      }\n",
              "      quickchartButtonEl.classList.remove('colab-df-spinner');\n",
              "      quickchartButtonEl.classList.add('colab-df-quickchart-complete');\n",
              "    }\n",
              "    (() => {\n",
              "      let quickchartButtonEl =\n",
              "        document.querySelector('#df-a076d500-3108-48b0-8d31-1d55b03ed475 button');\n",
              "      quickchartButtonEl.style.display =\n",
              "        google.colab.kernel.accessAllowed ? 'block' : 'none';\n",
              "    })();\n",
              "  </script>\n",
              "</div>\n",
              "\n",
              "    </div>\n",
              "  </div>\n"
            ]
          },
          "metadata": {},
          "execution_count": 19
        }
      ]
    },
    {
      "cell_type": "code",
      "source": [
        "# function to calculate the metrics\n",
        "def compute_metrics(labels, preds):\n",
        "    accuracy = accuracy_score(y_true=labels, y_pred=preds)\n",
        "    precision = precision_score(y_true=labels, y_pred=preds, average='weighted')\n",
        "    recall = recall_score(y_true=labels, y_pred=preds, average='weighted')\n",
        "    f1score = f1_score(y_true=labels, y_pred=preds, average='weighted')\n",
        "    return {\"accuracy\": accuracy,\n",
        "            \"precision\": precision,\n",
        "            \"recall\": recall,\n",
        "            \"f1_score\": f1score}"
      ],
      "metadata": {
        "id": "D7hVWtC3pzFJ"
      },
      "execution_count": null,
      "outputs": []
    },
    {
      "cell_type": "code",
      "source": [
        "compute_metrics(val_data_w_preds.Aspect.values,val_data_w_preds.Predicted_Aspect.values)"
      ],
      "metadata": {
        "colab": {
          "base_uri": "https://localhost:8080/"
        },
        "id": "Ve1I4UIVp-v9",
        "outputId": "75e60245-5196-4605-b410-b2267728e9e8"
      },
      "execution_count": null,
      "outputs": [
        {
          "output_type": "execute_result",
          "data": {
            "text/plain": [
              "{'accuracy': 0.9178240740740741,\n",
              " 'precision': 0.9187643552452461,\n",
              " 'recall': 0.9178240740740741,\n",
              " 'f1_score': 0.9180020227796567}"
            ]
          },
          "metadata": {},
          "execution_count": 21
        }
      ]
    },
    {
      "cell_type": "code",
      "source": [
        "# individual label wise precision recall metrics\n",
        "print(classification_report(val_data_w_preds['Aspect'], val_data_w_preds['Predicted_Aspect']))"
      ],
      "metadata": {
        "colab": {
          "base_uri": "https://localhost:8080/"
        },
        "id": "L_twTveiqJPd",
        "outputId": "dcee8ccd-da78-4082-e0ba-6091c037cb98"
      },
      "execution_count": null,
      "outputs": [
        {
          "output_type": "stream",
          "name": "stdout",
          "text": [
            "                      precision    recall  f1-score   support\n",
            "\n",
            "        Adaptability       0.94      0.90      0.92       141\n",
            "          Aesthetics       0.92      0.94      0.93       130\n",
            "          Durability       0.89      0.92      0.91       182\n",
            "Ease of Reprocessing       0.93      0.95      0.94       121\n",
            "     Ease of Storage       0.97      0.95      0.96       125\n",
            "         Ease of Use       0.93      0.89      0.91       133\n",
            "          Ergonomics       0.90      0.88      0.89       136\n",
            "        Interference       0.88      0.92      0.90       130\n",
            "         Performance       0.85      0.85      0.85       231\n",
            "               Price       1.00      0.95      0.97       128\n",
            "              Safety       0.91      0.96      0.93       125\n",
            "      Use Efficiency       0.97      0.95      0.96       146\n",
            "\n",
            "            accuracy                           0.92      1728\n",
            "           macro avg       0.92      0.92      0.92      1728\n",
            "        weighted avg       0.92      0.92      0.92      1728\n",
            "\n"
          ]
        }
      ]
    },
    {
      "cell_type": "code",
      "source": [],
      "metadata": {
        "id": "15Ooil_9qhgn"
      },
      "execution_count": null,
      "outputs": []
    }
  ]
}